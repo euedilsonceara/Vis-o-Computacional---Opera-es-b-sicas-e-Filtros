{
 "cells": [
  {
   "cell_type": "markdown",
   "metadata": {},
   "source": [
    "#### FILTRO PASSA BAIXA - GAUSSIANO"
   ]
  },
  {
   "cell_type": "code",
   "execution_count": 1,
   "metadata": {},
   "outputs": [],
   "source": [
    "import numpy as np\n",
    "import cv2"
   ]
  },
  {
   "cell_type": "code",
   "execution_count": 2,
   "metadata": {},
   "outputs": [],
   "source": [
    "# Função para aplicação do filtro passa baixa gaussiano\n",
    "    # Recebe-se uma imagem e a dimensão do tamanho da máscara\n",
    "    # Se o tamanho_mascara for 3, por exemplo, a mascara terá dimensão 3x3\n",
    "def filtro_passa_baixa_gaussiano(imagem, tamanho_mascara, desvio_padrao):\n",
    "\n",
    "    # largura = total de colunas da matriz de pixels da imagem\n",
    "    # altura = total de linhas da matriz de pixels da imagem\n",
    "    altura, largura = imagem.shape\n",
    "\n",
    "    # imagem_filtrada = inicia como uma matriz de 0s do mesmo tamanho que a imagem original\n",
    "    imagem_filtrada = np.zeros_like(imagem, dtype=np.float32)\n",
    "\n",
    "    # Criando uma mascara gaussiana 2D\n",
    "    mascara = np.zeros((tamanho_mascara, tamanho_mascara))\n",
    "    centro = tamanho_mascara // 2\n",
    "    for i in range(tamanho_mascara):\n",
    "        for j in range(tamanho_mascara):\n",
    "            x = i - centro\n",
    "            y = j - centro\n",
    "            mascara[i, j] = np.exp(-(x**2 + y**2) / (2 * desvio_padrao**2))\n",
    "    \n",
    "    # Normalizando a mascara para que a soma dos elementos seja igual a 1\n",
    "    mascara = mascara / np.sum(mascara)\n",
    "\n",
    "    # Adicionando borda à imagem para evitar efeitos de borda\n",
    "    imagem = np.pad(imagem, ((centro, centro), (centro, centro)), mode='constant')\n",
    "\n",
    "    # Convolução\n",
    "    # A operação de convolução é aplicada multiplicando elemento a elemento a região da imagem pela máscara Gaussiana e somando os resultados.\n",
    "    # O valor resultante é atribuído ao pixel correspondente na imagem filtrada.\n",
    "    for i in range(altura):\n",
    "        for j in range(largura):\n",
    "            regiao = imagem[i:i+tamanho_mascara, j:j+tamanho_mascara]\n",
    "            valor = np.sum(regiao * mascara)\n",
    "            imagem_filtrada[i, j] = valor\n",
    "\n",
    "    return imagem_filtrada.astype(np.uint8)"
   ]
  },
  {
   "cell_type": "code",
   "execution_count": 20,
   "metadata": {},
   "outputs": [
    {
     "name": "stdout",
     "output_type": "stream",
     "text": [
      "Imagem filtrada salva na pasta Imagens. Por favor, verifique o arquivo.\n"
     ]
    }
   ],
   "source": [
    "# Carregando a imagem\n",
    "imagem = cv2.imread('Imagens/00_edilson.png', cv2.IMREAD_GRAYSCALE)\n",
    "\n",
    "# Aplicando o filtro passa-baixa gaussiano com tamanho da mascara 5x5\n",
    "imagem_filtrada = filtro_passa_baixa_gaussiano(imagem, 5, 0.5)\n",
    "\n",
    "# Salvando a imagem filtrada em um arquivo\n",
    "cv2.imwrite('Imagens/03_edilson_gaussiano_mascara_5x5_05.png', imagem_filtrada)\n",
    "\n",
    "# Mostrando mensagem indicando que a imagem foi salva\n",
    "print(\"Imagem filtrada salva na pasta Imagens. Por favor, verifique o arquivo.\")"
   ]
  }
 ],
 "metadata": {
  "kernelspec": {
   "display_name": "Python 3",
   "language": "python",
   "name": "python3"
  },
  "language_info": {
   "codemirror_mode": {
    "name": "ipython",
    "version": 3
   },
   "file_extension": ".py",
   "mimetype": "text/x-python",
   "name": "python",
   "nbconvert_exporter": "python",
   "pygments_lexer": "ipython3",
   "version": "3.11.1"
  }
 },
 "nbformat": 4,
 "nbformat_minor": 2
}
