{
 "cells": [
  {
   "cell_type": "markdown",
   "metadata": {},
   "source": [
    "#### FILTRO PASSA ALTA - LAPLACIANO"
   ]
  },
  {
   "cell_type": "code",
   "execution_count": 8,
   "metadata": {},
   "outputs": [],
   "source": [
    "import numpy as np\n",
    "import cv2"
   ]
  },
  {
   "cell_type": "code",
   "execution_count": 9,
   "metadata": {},
   "outputs": [],
   "source": [
    "# Função para aplicação do filtro passa alta laplaciano\n",
    "    # Recebe-se uma imagem, a dimensão do tamanho da máscara e o desvio padrão\n",
    "    # Se o tamanho_mascara for 3, por exemplo, a mascara terá dimensão 3x3\n",
    "def filtro_passa_alta_laplaciano(imagem):\n",
    "\n",
    "    # largura = total de colunas da matriz de pixels da imagem\n",
    "    # altura = total de linhas da matriz de pixels da imagem\n",
    "    altura, largura = imagem.shape\n",
    "\n",
    "    # imagem_filtrada = inicia como uma matriz de 0s do mesmo tamanho que a imagem original\n",
    "    imagem_filtrada = np.zeros_like(imagem, dtype=np.float32)\n",
    "\n",
    "    # Máscara Laplaciana\n",
    "    mascara = np.array([[0, 1, 0],\n",
    "                        [1, -4, 1],\n",
    "                        [0, 1, 0]])\n",
    "\n",
    "    # Adicionando borda à imagem para evitar efeitos de borda\n",
    "    imagem = np.pad(imagem, ((1, 1), (1, 1)), mode='constant')\n",
    "\n",
    "    # Convolução\n",
    "    # A operação de convolução é aplicada multiplicando elemento a elemento a região da imagem pela máscara do filtro passa-alta Laplaciano e somando os resultados.\n",
    "    # O valor resultante é atribuído ao pixel correspondente na imagem filtrada.\n",
    "    for i in range(altura):\n",
    "        for j in range(largura):\n",
    "            regiao = imagem[i:i+3, j:j+3]\n",
    "            valor = np.sum(regiao * mascara)\n",
    "            imagem_filtrada[i, j] = valor\n",
    "\n",
    "    return imagem_filtrada.astype(np.uint8)"
   ]
  },
  {
   "cell_type": "code",
   "execution_count": 10,
   "metadata": {},
   "outputs": [
    {
     "name": "stdout",
     "output_type": "stream",
     "text": [
      "Imagem filtrada salva na pasta Imagens. Por favor, verifique o arquivo.\n"
     ]
    }
   ],
   "source": [
    "# Carregando a imagem\n",
    "imagem = cv2.imread('Imagens/00_edilson.png', cv2.IMREAD_GRAYSCALE)\n",
    "\n",
    "# Aplicando o filtro passa-alta laplaciano com mascara 3x3\n",
    "imagem_filtrada = filtro_passa_alta_laplaciano(imagem)\n",
    "\n",
    "# Salvando a imagem filtrada em um arquivo\n",
    "cv2.imwrite('Imagens/04_edilson_laplaciano_mascara_3x3.png', imagem_filtrada)\n",
    "\n",
    "# Mostrando mensagem indicando que a imagem foi salva\n",
    "print(\"Imagem filtrada salva na pasta Imagens. Por favor, verifique o arquivo.\")"
   ]
  }
 ],
 "metadata": {
  "kernelspec": {
   "display_name": "Python 3",
   "language": "python",
   "name": "python3"
  },
  "language_info": {
   "codemirror_mode": {
    "name": "ipython",
    "version": 3
   },
   "file_extension": ".py",
   "mimetype": "text/x-python",
   "name": "python",
   "nbconvert_exporter": "python",
   "pygments_lexer": "ipython3",
   "version": "3.11.1"
  }
 },
 "nbformat": 4,
 "nbformat_minor": 2
}
