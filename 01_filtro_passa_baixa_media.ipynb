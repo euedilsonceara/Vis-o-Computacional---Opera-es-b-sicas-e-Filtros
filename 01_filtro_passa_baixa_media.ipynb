{
 "cells": [
  {
   "cell_type": "markdown",
   "metadata": {},
   "source": [
    "#### FILTRO PASSA BAIXA - MÉDIA"
   ]
  },
  {
   "cell_type": "code",
   "execution_count": 3,
   "metadata": {},
   "outputs": [],
   "source": [
    "import numpy as np\n",
    "import cv2"
   ]
  },
  {
   "cell_type": "code",
   "execution_count": 25,
   "metadata": {},
   "outputs": [],
   "source": [
    "# Função para aplicação do filtro passa baixa de média\n",
    "    # Recebe-se uma imagem e a dimensão do tamanho da máscara\n",
    "    # Se o tamanho_mascara for 3, por exemplo, a mascara terá dimensão 3x3\n",
    "def filtro_passa_baixa_media(imagem, tamanho_mascara):\n",
    "\n",
    "    # Largura = total de colunas da matriz de pixels da imagem\n",
    "    # Altura = total de linhas da matriz de pixels da imagem\n",
    "    altura, largura = imagem.shape\n",
    "\n",
    "    # filtro = Matriz quadrada representando a máscara\n",
    "    # Cada elemento da matriz é normalizado dividindo-o pelo tamanho da máscara ao quadrado para garantir que a média dos elementos na vizinhança seja 1.\n",
    "    filtro = np.ones((tamanho_mascara, tamanho_mascara), dtype=np.float32) / (tamanho_mascara * tamanho_mascara)\n",
    "\n",
    "    # imagem_filtrada = inicia como uma matriz de 0s do mesmo tamanho que a imagem original\n",
    "    imagem_filtrada = np.zeros_like(imagem, dtype=np.float32)\n",
    "\n",
    "    # Centralizando a mascara\n",
    "    # Inverte-se as linhas e colunas horizontalmente e verticalmente usando np.flipud e np.fliplr. \n",
    "    # Isso é feito para garantir que a operação de convolução seja aplicada corretamente.\n",
    "    filtro = np.flipud(np.fliplr(filtro))\n",
    "\n",
    "    # Adicionando borda à imagem para evitar efeitos de borda\n",
    "    # np.pad adiciona uma borda de tamanho tamanho_mascara // 2 em cada borda da imagem.\n",
    "    imagem = np.pad(imagem, ((tamanho_mascara//2, tamanho_mascara//2), (tamanho_mascara//2, tamanho_mascara//2)), mode='constant')\n",
    "\n",
    "    # Convolução\n",
    "    # A operação de convolução é aplicada multiplicando elemento a elemento a região da imagem pela máscara do filtro e somando os resultados.\n",
    "    for i in range(altura):\n",
    "        for j in range(largura):\n",
    "            regiao = imagem[i:i+tamanho_mascara, j:j+tamanho_mascara]\n",
    "            imagem_filtrada[i, j] = np.sum(regiao * filtro)\n",
    "\n",
    "    return imagem_filtrada.astype(np.uint8)"
   ]
  },
  {
   "cell_type": "code",
   "execution_count": 28,
   "metadata": {},
   "outputs": [
    {
     "name": "stdout",
     "output_type": "stream",
     "text": [
      "Imagem filtrada salva na pasta Imagens. Por favor, verifique o arquivo.\n"
     ]
    }
   ],
   "source": [
    "# Carregando a imagem\n",
    "imagem = cv2.imread('Imagens/00_edilson.png', cv2.IMREAD_GRAYSCALE)\n",
    "\n",
    "# Aplicando o filtro passa-baixa de média com mascara 5x5\n",
    "imagem_filtrada = filtro_passa_baixa_media(imagem, 5)\n",
    "\n",
    "# Salvando a imagem filtrada em um arquivo\n",
    "cv2.imwrite('Imagens/01_edilson_media_mascara_5x5.png', imagem_filtrada)\n",
    "\n",
    "# Mostrando mensagem indicando que a imagem foi salva\n",
    "print(\"Imagem filtrada salva na pasta Imagens. Por favor, verifique o arquivo.\")"
   ]
  }
 ],
 "metadata": {
  "kernelspec": {
   "display_name": "Python 3",
   "language": "python",
   "name": "python3"
  },
  "language_info": {
   "codemirror_mode": {
    "name": "ipython",
    "version": 3
   },
   "file_extension": ".py",
   "mimetype": "text/x-python",
   "name": "python",
   "nbconvert_exporter": "python",
   "pygments_lexer": "ipython3",
   "version": "3.11.1"
  }
 },
 "nbformat": 4,
 "nbformat_minor": 2
}
