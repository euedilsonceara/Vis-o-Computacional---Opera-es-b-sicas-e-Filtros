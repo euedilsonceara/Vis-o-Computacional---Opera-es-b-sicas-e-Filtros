{
 "cells": [
  {
   "cell_type": "markdown",
   "metadata": {},
   "source": [
    "#### FILTRO PASSA BAIXA - MEDIANA"
   ]
  },
  {
   "cell_type": "code",
   "execution_count": 1,
   "metadata": {},
   "outputs": [],
   "source": [
    "import numpy as np\n",
    "import cv2"
   ]
  },
  {
   "cell_type": "code",
   "execution_count": 2,
   "metadata": {},
   "outputs": [],
   "source": [
    "# Função para aplicação do filtro passa baixa de mediana\n",
    "    # Recebe-se uma imagem e a dimensão do tamanho da máscara\n",
    "    # Se o tamanho_mascara for 3, por exemplo, a mascara terá dimensão 3x3\n",
    "def filtro_passa_baixa_mediana(imagem, tamanho_mascara):\n",
    "\n",
    "    # Largura = total de colunas da matriz de pixels da imagem\n",
    "    # Altura = total de linhas da matriz de pixels da imagem\n",
    "    altura, largura = imagem.shape\n",
    "\n",
    "    # imagem_filtrada = inicia como uma matriz de 0s do mesmo tamanho que a imagem original\n",
    "    imagem_filtrada = np.zeros_like(imagem, dtype=np.uint8)\n",
    "\n",
    "    # Adicionando borda à imagem para evitar efeitos de borda\n",
    "    # np.pad adiciona uma borda de tamanho tamanho_mascara // 2 em cada borda da imagem.\n",
    "    imagem = np.pad(imagem, ((tamanho_mascara//2, tamanho_mascara//2), (tamanho_mascara//2, tamanho_mascara//2)), mode='constant')\n",
    "\n",
    "    # Convolução\n",
    "    # A convolução é realizada percorrendo cada pixel da imagem original.\n",
    "    # Para cada pixel, uma região da imagem, do tamanho da máscara, é extraída.\n",
    "    # A mediana dos valores nesta região é calculada utilizando a função np.median.\n",
    "    # O valor da mediana é atribuído ao pixel correspondente na imagem filtrada. \n",
    "    for i in range(altura):\n",
    "        for j in range(largura):\n",
    "            regiao = imagem[i:i+tamanho_mascara, j:j+tamanho_mascara]\n",
    "            valor_mediana = np.median(regiao)\n",
    "            imagem_filtrada[i, j] = valor_mediana\n",
    "\n",
    "    return imagem_filtrada"
   ]
  },
  {
   "cell_type": "code",
   "execution_count": 7,
   "metadata": {},
   "outputs": [
    {
     "name": "stdout",
     "output_type": "stream",
     "text": [
      "Imagem filtrada salva na pasta Imagens. Por favor, verifique o arquivo.\n"
     ]
    }
   ],
   "source": [
    "# Carregando a imagem\n",
    "imagem = cv2.imread('Imagens/00_edilson.png', cv2.IMREAD_GRAYSCALE)\n",
    "\n",
    "# Aplicando o filtro passa-baixa de mediana com mascara 5x5\n",
    "imagem_filtrada = filtro_passa_baixa_mediana(imagem, 5)\n",
    "\n",
    "# Salvando a imagem filtrada em um arquivo\n",
    "cv2.imwrite('Imagens/02_edilson_mediana_mascara_5x5.png', imagem_filtrada)\n",
    "\n",
    "# Mostrando mensagem indicando que a imagem foi salva\n",
    "print(\"Imagem filtrada salva na pasta Imagens. Por favor, verifique o arquivo.\")"
   ]
  }
 ],
 "metadata": {
  "kernelspec": {
   "display_name": "Python 3",
   "language": "python",
   "name": "python3"
  },
  "language_info": {
   "codemirror_mode": {
    "name": "ipython",
    "version": 3
   },
   "file_extension": ".py",
   "mimetype": "text/x-python",
   "name": "python",
   "nbconvert_exporter": "python",
   "pygments_lexer": "ipython3",
   "version": "3.11.1"
  }
 },
 "nbformat": 4,
 "nbformat_minor": 2
}
