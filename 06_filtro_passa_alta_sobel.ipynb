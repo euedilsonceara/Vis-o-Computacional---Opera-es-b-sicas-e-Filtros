{
 "cells": [
  {
   "cell_type": "markdown",
   "metadata": {},
   "source": [
    "#### FILTRO PASSA ALTA - SOBEL"
   ]
  },
  {
   "cell_type": "code",
   "execution_count": 1,
   "metadata": {},
   "outputs": [],
   "source": [
    "import numpy as np\n",
    "import cv2"
   ]
  },
  {
   "cell_type": "code",
   "execution_count": 5,
   "metadata": {},
   "outputs": [],
   "source": [
    "def filtro_passa_alta_sobel(imagem):\n",
    "    \n",
    "    # largura = total de colunas da matriz de pixels da imagem\n",
    "    # altura = total de linhas da matriz de pixels da imagem\n",
    "    altura, largura = imagem.shape\n",
    "\n",
    "    # imagem_filtrada = inicia como uma matriz de 0s do mesmo tamanho que a imagem original\n",
    "    imagem_filtrada = np.zeros_like(imagem, dtype=np.float32)\n",
    "\n",
    "    # Máscaras de Sobel para detecção de bordas nas direções horizontal e vertical\n",
    "    mascara_x = np.array([[-1, 0, 1],\n",
    "                          [-2, 0, 2],\n",
    "                          [-1, 0, 1]])\n",
    "\n",
    "    mascara_y = np.array([[-1, -2, -1],\n",
    "                          [0, 0, 0],\n",
    "                          [1, 2, 1]])\n",
    "\n",
    "    # Adicionando borda à imagem para evitar efeitos de borda\n",
    "    imagem = np.pad(imagem, ((1, 1), (1, 1)), mode='constant')\n",
    "\n",
    "    # Convolução nas direções horizontal e vertical\n",
    "    # Convolução nas direções horizontal e vertical\n",
    "    # Para cada região de vizinhança, a convolução é realizada separadamente nas direções horizontal e vertical.\n",
    "    # A convolução em cada direção é realizada multiplicando elemento a elemento a região de vizinhança pela máscara correspondente e somando os resultados.\n",
    "    # Para cada pixel, o código calcula a magnitude do gradiente combinando as derivadas parciais horizontal e vertical usando o teorema de Pitágoras\n",
    "    # Isso resulta na magnitude do vetor gradiente para cada pixel, que representa a intensidade da borda naquela posição.\n",
    "    for i in range(altura):\n",
    "        for j in range(largura):\n",
    "            regiao = imagem[i:i+3, j:j+3]\n",
    "            gradiente_x = np.sum(regiao * mascara_x)\n",
    "            gradiente_y = np.sum(regiao * mascara_y)\n",
    "            magnitude = np.sqrt(gradiente_x**2 + gradiente_y**2)\n",
    "            imagem_filtrada[i, j] = magnitude\n",
    "\n",
    "    return imagem_filtrada.astype(np.uint8)"
   ]
  },
  {
   "cell_type": "code",
   "execution_count": 6,
   "metadata": {},
   "outputs": [
    {
     "name": "stdout",
     "output_type": "stream",
     "text": [
      "Imagem filtrada salva na pasta Imagens. Por favor, verifique o arquivo.\n"
     ]
    }
   ],
   "source": [
    "# Carregando a imagem\n",
    "imagem = cv2.imread('Imagens/00_edilson.png', cv2.IMREAD_GRAYSCALE)\n",
    "\n",
    "# Aplicando o filtro passa-alta sobel\n",
    "imagem_filtrada = filtro_passa_alta_sobel(imagem)\n",
    "\n",
    "# Salvando a imagem filtrada em um arquivo\n",
    "cv2.imwrite('Imagens/06_edilson_sobel_mascara_3x3.png', imagem_filtrada)\n",
    "\n",
    "# Mostrando mensagem indicando que a imagem foi salva\n",
    "print(\"Imagem filtrada salva na pasta Imagens. Por favor, verifique o arquivo.\")"
   ]
  }
 ],
 "metadata": {
  "kernelspec": {
   "display_name": "Python 3",
   "language": "python",
   "name": "python3"
  },
  "language_info": {
   "codemirror_mode": {
    "name": "ipython",
    "version": 3
   },
   "file_extension": ".py",
   "mimetype": "text/x-python",
   "name": "python",
   "nbconvert_exporter": "python",
   "pygments_lexer": "ipython3",
   "version": "3.11.1"
  }
 },
 "nbformat": 4,
 "nbformat_minor": 2
}
